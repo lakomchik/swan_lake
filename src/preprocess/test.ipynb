{
 "cells": [
  {
   "cell_type": "code",
   "execution_count": 1,
   "metadata": {},
   "outputs": [],
   "source": [
    "import numpy as np\n",
    "import os\n",
    "import random\n",
    "import torch\n",
    "import PIL\n",
    "from PIL import Image, __version__\n",
    "PIL.PILLOW_VERSION = __version__\n",
    "import albumentations as A\n",
    "from albumentations.pytorch import ToTensorV2\n",
    "from tqdm.autonotebook import tqdm\n"
   ]
  },
  {
   "cell_type": "code",
   "execution_count": 27,
   "metadata": {},
   "outputs": [],
   "source": [
    "root_dir = os.path.dirname(os.path.dirname(os.getcwd()))\n",
    "img_path = os.path.join(root_dir,'Dataset\\klikun\\images')\n",
    "image = Image.open(os.path.join(img_path,'1.jpg'))\n",
    "image = image.save(os.path.join(img_path, '000000000000000000000.png'))\n",
    "mask_path = os.path.join(root_dir,'Dataset\\klikun\\masks')\n",
    "mask = Image.open(os.path.join(mask_path,'1.png'))"
   ]
  },
  {
   "cell_type": "code",
   "execution_count": 34,
   "metadata": {},
   "outputs": [],
   "source": [
    "images_path = os.path.join(root_dir, '/Merged/images')\n",
    "masks_path = os.path.join(root_dir, '/Merged/masks')\n",
    "folder_names = os.listdir(root_dir)\n",
    "folder_names.sort()\n",
    "if not os.path.exists(images_path):\n",
    "    os.makedirs(images_path)\n",
    "if not os.path.exists(masks_path):\n",
    "    os.makedirs(masks_path)"
   ]
  },
  {
   "cell_type": "code",
   "execution_count": null,
   "metadata": {},
   "outputs": [],
   "source": []
  }
 ],
 "metadata": {
  "kernelspec": {
   "display_name": "Python 3",
   "language": "python",
   "name": "python3"
  },
  "language_info": {
   "codemirror_mode": {
    "name": "ipython",
    "version": 3
   },
   "file_extension": ".py",
   "mimetype": "text/x-python",
   "name": "python",
   "nbconvert_exporter": "python",
   "pygments_lexer": "ipython3",
   "version": "3.10.10"
  },
  "orig_nbformat": 4
 },
 "nbformat": 4,
 "nbformat_minor": 2
}
